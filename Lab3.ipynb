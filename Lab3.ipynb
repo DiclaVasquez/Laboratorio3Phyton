{
 "cells": [
  {
   "cell_type": "markdown",
   "id": "5438421d-c634-4f54-8e2b-a51e5218c849",
   "metadata": {},
   "source": [
    "# Laboratorio # 3\n",
    "# Ejercico No. 1: procedimiento para trabajar números enteros en decimal y que despligue su representación en número binario\n"
   ]
  },
  {
   "cell_type": "code",
   "execution_count": null,
   "id": "b8ab96d3-9d61-41bb-b2c8-8b5aa2188a1d",
   "metadata": {},
   "outputs": [],
   "source": []
  },
  {
   "cell_type": "code",
   "execution_count": null,
   "id": "4e5c9394-5792-47c3-9cc2-119e4b0aa525",
   "metadata": {},
   "outputs": [],
   "source": []
  }
 ],
 "metadata": {
  "kernelspec": {
   "display_name": "",
   "name": ""
  },
  "language_info": {
   "name": ""
  }
 },
 "nbformat": 4,
 "nbformat_minor": 5
}
